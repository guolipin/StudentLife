{
 "cells": [
  {
   "cell_type": "code",
   "execution_count": 1,
   "metadata": {},
   "outputs": [],
   "source": [
    "# Import libraries\n",
    "import warnings\n",
    "warnings.simplefilter(action='ignore', category=FutureWarning)\n",
    "\n",
    "import os\n",
    "import sys\n",
    "import numpy as np\n",
    "import pandas as pd\n",
    "import matplotlib.pyplot as plt\n",
    "%matplotlib inline\n",
    "\n",
    "from src.pre_post_loader import pre_post_reader,get_pos_neg_difference"
   ]
  },
  {
   "cell_type": "markdown",
   "metadata": {},
   "source": [
    "# Data Processing\n",
    "## 1. Read data\n",
    "- Data missing (40 uids)"
   ]
  },
  {
   "cell_type": "code",
   "execution_count": 2,
   "metadata": {},
   "outputs": [
    {
     "name": "stderr",
     "output_type": "stream",
     "text": [
      "/Users/catherine/AI/UoA/T6/RA/code/StudentLife/src/pre_post_loader.py:31: SettingWithCopyWarning: \n",
      "A value is trying to be set on a copy of a slice from a DataFrame.\n",
      "Try using .loc[row_indexer,col_indexer] = value instead\n",
      "\n",
      "See the caveats in the documentation: https://pandas.pydata.org/pandas-docs/stable/user_guide/indexing.html#returning-a-view-versus-a-copy\n",
      "  new_df[col_names[2:]] = new_df.loc[:, col_names[2:]].astype('int64')\n"
     ]
    }
   ],
   "source": [
    "data_path = '/Users/catherine/AI/UoA/T6/RA/code/StudentLife/data/dataset/survey/panas.csv'\n",
    "# Remove the row wtih NaN value\n",
    "df, pre_df, post_df = pre_post_reader(data_path, mode='remove', to_int=True)"
   ]
  },
  {
   "cell_type": "code",
   "execution_count": 3,
   "metadata": {},
   "outputs": [
    {
     "name": "stdout",
     "output_type": "stream",
     "text": [
      "<class 'pandas.core.frame.DataFrame'>\n",
      "Index: 70 entries, 1 to 84\n",
      "Data columns (total 20 columns):\n",
      " #   Column        Non-Null Count  Dtype \n",
      "---  ------        --------------  ----- \n",
      " 0   uid           70 non-null     object\n",
      " 1   type          70 non-null     object\n",
      " 2   Interested    70 non-null     int64 \n",
      " 3   Distressed    70 non-null     int64 \n",
      " 4   Upset         70 non-null     int64 \n",
      " 5   Strong        70 non-null     int64 \n",
      " 6   Guilty        70 non-null     int64 \n",
      " 7   Scared        70 non-null     int64 \n",
      " 8   Hostile       70 non-null     int64 \n",
      " 9   Enthusiastic  70 non-null     int64 \n",
      " 10  Proud         70 non-null     int64 \n",
      " 11  Irritable     70 non-null     int64 \n",
      " 12  Alert         70 non-null     int64 \n",
      " 13  Inspired      70 non-null     int64 \n",
      " 14  Nervous       70 non-null     int64 \n",
      " 15  Determined    70 non-null     int64 \n",
      " 16  Attentive     70 non-null     int64 \n",
      " 17  Jittery       70 non-null     int64 \n",
      " 18  Active        70 non-null     int64 \n",
      " 19  Afraid        70 non-null     int64 \n",
      "dtypes: int64(18), object(2)\n",
      "memory usage: 11.5+ KB\n"
     ]
    }
   ],
   "source": [
    "df.info()"
   ]
  },
  {
   "cell_type": "code",
   "execution_count": 4,
   "metadata": {},
   "outputs": [
    {
     "name": "stdout",
     "output_type": "stream",
     "text": [
      "<class 'pandas.core.frame.DataFrame'>\n",
      "Index: 35 entries, 1 to 45\n",
      "Data columns (total 20 columns):\n",
      " #   Column        Non-Null Count  Dtype \n",
      "---  ------        --------------  ----- \n",
      " 0   uid           35 non-null     object\n",
      " 1   type          35 non-null     object\n",
      " 2   Interested    35 non-null     int64 \n",
      " 3   Distressed    35 non-null     int64 \n",
      " 4   Upset         35 non-null     int64 \n",
      " 5   Strong        35 non-null     int64 \n",
      " 6   Guilty        35 non-null     int64 \n",
      " 7   Scared        35 non-null     int64 \n",
      " 8   Hostile       35 non-null     int64 \n",
      " 9   Enthusiastic  35 non-null     int64 \n",
      " 10  Proud         35 non-null     int64 \n",
      " 11  Irritable     35 non-null     int64 \n",
      " 12  Alert         35 non-null     int64 \n",
      " 13  Inspired      35 non-null     int64 \n",
      " 14  Nervous       35 non-null     int64 \n",
      " 15  Determined    35 non-null     int64 \n",
      " 16  Attentive     35 non-null     int64 \n",
      " 17  Jittery       35 non-null     int64 \n",
      " 18  Active        35 non-null     int64 \n",
      " 19  Afraid        35 non-null     int64 \n",
      "dtypes: int64(18), object(2)\n",
      "memory usage: 5.7+ KB\n"
     ]
    }
   ],
   "source": [
    "pre_df.info()"
   ]
  },
  {
   "cell_type": "code",
   "execution_count": 5,
   "metadata": {},
   "outputs": [
    {
     "name": "stdout",
     "output_type": "stream",
     "text": [
      "<class 'pandas.core.frame.DataFrame'>\n",
      "Index: 35 entries, 47 to 84\n",
      "Data columns (total 20 columns):\n",
      " #   Column        Non-Null Count  Dtype \n",
      "---  ------        --------------  ----- \n",
      " 0   uid           35 non-null     object\n",
      " 1   type          35 non-null     object\n",
      " 2   Interested    35 non-null     int64 \n",
      " 3   Distressed    35 non-null     int64 \n",
      " 4   Upset         35 non-null     int64 \n",
      " 5   Strong        35 non-null     int64 \n",
      " 6   Guilty        35 non-null     int64 \n",
      " 7   Scared        35 non-null     int64 \n",
      " 8   Hostile       35 non-null     int64 \n",
      " 9   Enthusiastic  35 non-null     int64 \n",
      " 10  Proud         35 non-null     int64 \n",
      " 11  Irritable     35 non-null     int64 \n",
      " 12  Alert         35 non-null     int64 \n",
      " 13  Inspired      35 non-null     int64 \n",
      " 14  Nervous       35 non-null     int64 \n",
      " 15  Determined    35 non-null     int64 \n",
      " 16  Attentive     35 non-null     int64 \n",
      " 17  Jittery       35 non-null     int64 \n",
      " 18  Active        35 non-null     int64 \n",
      " 19  Afraid        35 non-null     int64 \n",
      "dtypes: int64(18), object(2)\n",
      "memory usage: 5.7+ KB\n"
     ]
    }
   ],
   "source": [
    "post_df.info()"
   ]
  },
  {
   "cell_type": "code",
   "execution_count": 6,
   "metadata": {},
   "outputs": [],
   "source": [
    "pos = ['Interested','Strong', 'Enthusiastic', 'Proud','Alert','Inspired', 'Determined ', 'Attentive','Active ']\n",
    "neg = ['Distressed','Upset','Guilty','Scared', 'Hostile ', 'Irritable','Nervous','Jittery','Afraid ']"
   ]
  },
  {
   "cell_type": "code",
   "execution_count": 7,
   "metadata": {},
   "outputs": [
    {
     "name": "stdout",
     "output_type": "stream",
     "text": [
      "Check uid matching in the pre and post df: True\n"
     ]
    },
    {
     "data": {
      "text/html": [
       "<div>\n",
       "<style scoped>\n",
       "    .dataframe tbody tr th:only-of-type {\n",
       "        vertical-align: middle;\n",
       "    }\n",
       "\n",
       "    .dataframe tbody tr th {\n",
       "        vertical-align: top;\n",
       "    }\n",
       "\n",
       "    .dataframe thead th {\n",
       "        text-align: right;\n",
       "    }\n",
       "</style>\n",
       "<table border=\"1\" class=\"dataframe\">\n",
       "  <thead>\n",
       "    <tr style=\"text-align: right;\">\n",
       "      <th></th>\n",
       "      <th>panas_pos_pre</th>\n",
       "      <th>panas_neg_pre</th>\n",
       "      <th>panas_pos_post</th>\n",
       "      <th>panas_neg_post</th>\n",
       "      <th>panas_pos_delta</th>\n",
       "      <th>panas_neg_delta</th>\n",
       "    </tr>\n",
       "    <tr>\n",
       "      <th>uid</th>\n",
       "      <th></th>\n",
       "      <th></th>\n",
       "      <th></th>\n",
       "      <th></th>\n",
       "      <th></th>\n",
       "      <th></th>\n",
       "    </tr>\n",
       "  </thead>\n",
       "  <tbody>\n",
       "    <tr>\n",
       "      <th>u01</th>\n",
       "      <td>30</td>\n",
       "      <td>19</td>\n",
       "      <td>27</td>\n",
       "      <td>17</td>\n",
       "      <td>3</td>\n",
       "      <td>2</td>\n",
       "    </tr>\n",
       "    <tr>\n",
       "      <th>u02</th>\n",
       "      <td>23</td>\n",
       "      <td>15</td>\n",
       "      <td>28</td>\n",
       "      <td>13</td>\n",
       "      <td>5</td>\n",
       "      <td>2</td>\n",
       "    </tr>\n",
       "    <tr>\n",
       "      <th>u03</th>\n",
       "      <td>30</td>\n",
       "      <td>27</td>\n",
       "      <td>25</td>\n",
       "      <td>20</td>\n",
       "      <td>5</td>\n",
       "      <td>7</td>\n",
       "    </tr>\n",
       "    <tr>\n",
       "      <th>u04</th>\n",
       "      <td>27</td>\n",
       "      <td>14</td>\n",
       "      <td>34</td>\n",
       "      <td>19</td>\n",
       "      <td>7</td>\n",
       "      <td>5</td>\n",
       "    </tr>\n",
       "    <tr>\n",
       "      <th>u05</th>\n",
       "      <td>32</td>\n",
       "      <td>27</td>\n",
       "      <td>33</td>\n",
       "      <td>17</td>\n",
       "      <td>1</td>\n",
       "      <td>10</td>\n",
       "    </tr>\n",
       "  </tbody>\n",
       "</table>\n",
       "</div>"
      ],
      "text/plain": [
       "     panas_pos_pre  panas_neg_pre  panas_pos_post  panas_neg_post  \\\n",
       "uid                                                                 \n",
       "u01             30             19              27              17   \n",
       "u02             23             15              28              13   \n",
       "u03             30             27              25              20   \n",
       "u04             27             14              34              19   \n",
       "u05             32             27              33              17   \n",
       "\n",
       "     panas_pos_delta  panas_neg_delta  \n",
       "uid                                    \n",
       "u01                3                2  \n",
       "u02                5                2  \n",
       "u03                5                7  \n",
       "u04                7                5  \n",
       "u05                1               10  "
      ]
     },
     "execution_count": 7,
     "metadata": {},
     "output_type": "execute_result"
    }
   ],
   "source": [
    "diff_df = get_pos_neg_difference(pre_df, post_df, pos, neg, 'panas')\n",
    "diff_df.head()"
   ]
  }
 ],
 "metadata": {
  "kernelspec": {
   "display_name": "student",
   "language": "python",
   "name": "python3"
  },
  "language_info": {
   "codemirror_mode": {
    "name": "ipython",
    "version": 3
   },
   "file_extension": ".py",
   "mimetype": "text/x-python",
   "name": "python",
   "nbconvert_exporter": "python",
   "pygments_lexer": "ipython3",
   "version": "3.10.13"
  }
 },
 "nbformat": 4,
 "nbformat_minor": 2
}
